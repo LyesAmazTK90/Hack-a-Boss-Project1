{
 "cells": [
  {
   "cell_type": "markdown",
   "metadata": {},
   "source": [
    "### Importar funciones de extraccion"
   ]
  },
  {
   "cell_type": "code",
   "execution_count": null,
   "metadata": {},
   "outputs": [],
   "source": [
    "import configparser\n",
    "from libreria.airtable import AirtableConnector\n",
    "from libreria.scrape_f1 import  scrape_weather, \\\n",
    "                                scrape_all_races, \\\n",
    "                                scrape_all_constructors, \\\n",
    "                                all_races_info"
   ]
  },
  {
   "cell_type": "code",
   "execution_count": null,
   "metadata": {},
   "outputs": [],
   "source": [
    "# Read in configuration\n",
    "config = configparser.ConfigParser()\n",
    "config.read('config.ini')\n",
    "\n",
    "# Extract config for AirtableConnector initialisation\n",
    "TOKEN = config.get('airtable', 'TOKEN')\n",
    "BASE_ID = config.get('airtable', 'BASE_ID')\n",
    "api_key = config.get('openweather', 'API_KEY')\n",
    "\n",
    "connector = AirtableConnector(TOKEN, BASE_ID)"
   ]
  },
  {
   "cell_type": "code",
   "execution_count": null,
   "metadata": {},
   "outputs": [],
   "source": [
    "races_df = scrape_all_races()\n",
    "\n",
    "table_name = 'carreras'\n",
    "\n",
    "columns = list(races_df.columns)\n",
    "\n",
    "dtypes = [\n",
    "    'singleLineText', \n",
    "    'date', \n",
    "    'singleLineText', \n",
    "    'singleLineText', \n",
    "    'number', \n",
    "    'duration', \n",
    "    'singleLineText', \n",
    "    'singleLineText', \n",
    "    'duration'\n",
    "]\n",
    "\n",
    "options = [\n",
    "    {},\n",
    "    {\"dateFormat\": {\"name\": \"european\"}},\n",
    "    {},\n",
    "    {},\n",
    "    {\"precision\": 0},\n",
    "    {\"durationFormat\": \"h:mm:ss.SSS\"},\n",
    "    {},\n",
    "    {},\n",
    "    {\"durationFormat\": \"h:mm:ss.SSS\"}\n",
    "]\n",
    "\n",
    "response_table, responses_upload = connector.setup(races_df, table_name, columns, dtypes, options)"
   ]
  },
  {
   "cell_type": "code",
   "execution_count": null,
   "metadata": {},
   "outputs": [],
   "source": [
    "constructors_df = scrape_all_constructors()\n",
    "\n",
    "table_name = 'campeonatos'\n",
    "\n",
    "columns = list(constructors_df.columns)\n",
    "\n",
    "dtypes = [\n",
    "    'number', \n",
    "    'singleLineText', \n",
    "    'number', \n",
    "    'number',\n",
    "]\n",
    "\n",
    "options = [\n",
    "    {\"precision\": 0},\n",
    "    {},\n",
    "    {\"precision\": 0},\n",
    "    {\"precision\": 0},\n",
    "]\n",
    "\n",
    "response_table, responses_upload = connector.setup(constructors_df, table_name, columns, dtypes, options)"
   ]
  },
  {
   "cell_type": "code",
   "execution_count": null,
   "metadata": {},
   "outputs": [],
   "source": [
    "races_info_df = all_races_info()\n",
    "\n",
    "table_name = 'carreras_detalles'\n",
    "\n",
    "columns = list(races_info_df.columns)\n",
    "\n",
    "dtypes = [\n",
    "    'number', \n",
    "    'number',\n",
    "    'singleLineText', \n",
    "    'singleLineText', \n",
    "    'number', \n",
    "    'singleLineText', \n",
    "    'number', \n",
    "    'date',\n",
    "    'singleLineText', \n",
    "]\n",
    "\n",
    "options = [\n",
    "    {\"precision\": 0},\n",
    "    {\"precision\": 0},\n",
    "    {},\n",
    "    {},\n",
    "    {\"precision\": 0},\n",
    "    {},\n",
    "    {\"precision\": 0},\n",
    "    {\"dateFormat\": {\"name\": \"european\"}},\n",
    "    {}\n",
    "]\n",
    "\n",
    "response_table, responses_upload = connector.setup(races_info_df, table_name, columns, dtypes, options)"
   ]
  },
  {
   "cell_type": "code",
   "execution_count": null,
   "metadata": {},
   "outputs": [],
   "source": [
    "weather_df = scrape_weather(api_key)\n",
    "\n",
    "table_name = 'weather'\n",
    "\n",
    "columns = list(weather_df.columns)\n",
    "\n",
    "dtypes = [\n",
    "    'singleLineText', \n",
    "    'singleLineText', \n",
    "    'singleLineText', \n",
    "    'number',\n",
    "    'singleLineText', \n",
    "    'singleLineText', \n",
    "    'number',\n",
    "    'singleLineText', \n",
    "    'singleLineText',\n",
    "    'singleLineText', \n",
    "    'number', \n",
    "    'number', \n",
    "    'number', \n",
    "    'number', \n",
    "    'number', \n",
    "    'number', \n",
    "    'number', \n",
    "    'number', \n",
    "    'number', \n",
    "    'number', \n",
    "    'number', \n",
    "    'number', \n",
    "]\n",
    "\n",
    "options = [\n",
    "    {},\n",
    "    {},\n",
    "    {},\n",
    "    {\"precision\": 0},\n",
    "    {},\n",
    "    {},\n",
    "    {\"precision\": 0},\n",
    "    {},\n",
    "    {},\n",
    "    {},\n",
    "    {\"precision\": 0},\n",
    "    {\"precision\": 0},\n",
    "    {\"precision\": 0},\n",
    "    {\"precision\": 8},\n",
    "    {\"precision\": 8},\n",
    "    {\"precision\": 8},\n",
    "    {\"precision\": 8},\n",
    "    {\"precision\": 8},\n",
    "    {\"precision\": 8},\n",
    "    {\"precision\": 8},\n",
    "    {\"precision\": 8},\n",
    "    {\"precision\": 8},\n",
    "    {\"precision\": 8},\n",
    "]\n",
    "  \n",
    "\n",
    "response_table, responses_upload = connector.setup(weather_df, table_name, columns, dtypes, options)"
   ]
  },
  {
   "cell_type": "markdown",
   "metadata": {},
   "source": [
    "### Extraer de Airtable - Confirmar que funciona"
   ]
  },
  {
   "cell_type": "code",
   "execution_count": null,
   "metadata": {},
   "outputs": [],
   "source": [
    "carreras_df = connector.to_df('carreras')\n",
    "carreras_df"
   ]
  },
  {
   "cell_type": "code",
   "execution_count": null,
   "metadata": {},
   "outputs": [],
   "source": [
    "campeonatos_df = connector.to_df('campeonatos')\n",
    "campeonatos_df"
   ]
  },
  {
   "cell_type": "code",
   "execution_count": null,
   "metadata": {},
   "outputs": [],
   "source": [
    "carreras_detalles_df = connector.to_df('carreras_detalles')\n",
    "carreras_detalles_df"
   ]
  },
  {
   "cell_type": "code",
   "execution_count": null,
   "metadata": {},
   "outputs": [],
   "source": [
    "weather_df = connector.to_df('weather')\n",
    "weather_df"
   ]
  }
 ],
 "metadata": {
  "kernelspec": {
   "display_name": ".venv",
   "language": "python",
   "name": "python3"
  },
  "language_info": {
   "codemirror_mode": {
    "name": "ipython",
    "version": 3
   },
   "file_extension": ".py",
   "mimetype": "text/x-python",
   "name": "python",
   "nbconvert_exporter": "python",
   "pygments_lexer": "ipython3",
   "version": "3.11.5"
  }
 },
 "nbformat": 4,
 "nbformat_minor": 2
}
