{
 "cells": [
  {
   "cell_type": "code",
   "execution_count": null,
   "metadata": {},
   "outputs": [],
   "source": [
    "import configparser\n",
    "from libreria.airtable import AirtableConnector\n",
    "\n",
    "# Read in configuration\n",
    "config = configparser.ConfigParser()\n",
    "config.read('config.ini')\n",
    "\n",
    "# Extract config for AirtableConnector initialisation\n",
    "TOKEN = config.get('airtable', 'TOKEN')\n",
    "BASE_ID = config.get('airtable', 'BASE_ID')\n",
    "\n",
    "connector = AirtableConnector(TOKEN, BASE_ID)"
   ]
  },
  {
   "cell_type": "code",
   "execution_count": null,
   "metadata": {},
   "outputs": [],
   "source": [
    "# Preparar prerequisitos\n",
    "carreras = connector.to_df('carreras')\n",
    "weather = connector.to_df('weather')\n",
    "carreras_detalles = connector.to_df('carreras_detalles')"
   ]
  },
  {
   "cell_type": "code",
   "execution_count": null,
   "metadata": {},
   "outputs": [],
   "source": [
    "# Importe de funciones de libreria/graficos.py\n",
    "from libreria.ui import UI\n",
    "from libreria.graficos import   diez_mejores_pilotos, \\\n",
    "                                comparativa_todos_pilotos, \\\n",
    "                                puntaje_piloto, \\\n",
    "                                puntaje_escuderia, \\\n",
    "                                distribucion_puntaje_piloto, \\\n",
    "                                distribucion_puntaje_escuderia, \\\n",
    "                                distribucion_puntaje_piloto_y_escuderia, \\\n",
    "                                puntaje_piloto_por_circuito, \\\n",
    "                                puntaje_escuderia_por_circuito, \\\n",
    "                                mapa, \\\n",
    "                                graficar_viento, \\\n",
    "                                graficas_temperatura, \\\n",
    "                                columna_lluvia, \\\n",
    "                                tiempos_rapidos_por_piloto_Grand_Prix_año"
   ]
  },
  {
   "cell_type": "code",
   "execution_count": null,
   "metadata": {},
   "outputs": [],
   "source": [
    "funciones = [\n",
    "    (diez_mejores_pilotos, [carreras]), \n",
    "    (comparativa_todos_pilotos, [carreras]),\n",
    "    (puntaje_piloto, [carreras_detalles]),\n",
    "    (puntaje_escuderia, [carreras_detalles]),\n",
    "    (distribucion_puntaje_piloto, [carreras_detalles]),\n",
    "    (distribucion_puntaje_escuderia, [carreras_detalles]),\n",
    "    (distribucion_puntaje_piloto_y_escuderia, [carreras_detalles]),\n",
    "    (puntaje_piloto_por_circuito, [carreras_detalles]),\n",
    "    (puntaje_escuderia_por_circuito, [carreras_detalles]),\n",
    "    (mapa, [weather]),\n",
    "    (graficar_viento, [weather]),\n",
    "    (graficas_temperatura, [weather]),\n",
    "    (columna_lluvia, [weather]),\n",
    "    #(tiempos_rapidos_por_piloto_Grand_Prix_año, [carreras]) #TODO: Arreglar funcion\n",
    "]\n",
    "\n",
    "ui = UI(funciones)\n",
    "ui.start()"
   ]
  }
 ],
 "metadata": {
  "kernelspec": {
   "display_name": ".venv",
   "language": "python",
   "name": "python3"
  },
  "language_info": {
   "codemirror_mode": {
    "name": "ipython",
    "version": 3
   },
   "file_extension": ".py",
   "mimetype": "text/x-python",
   "name": "python",
   "nbconvert_exporter": "python",
   "pygments_lexer": "ipython3",
   "version": "3.11.5"
  }
 },
 "nbformat": 4,
 "nbformat_minor": 2
}
